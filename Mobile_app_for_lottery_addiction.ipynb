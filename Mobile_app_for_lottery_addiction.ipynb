{
 "cells": [
  {
   "cell_type": "markdown",
   "metadata": {},
   "source": [
    "# Mobile App for Lottery Addiction"
   ]
  },
  {
   "cell_type": "markdown",
   "metadata": {},
   "source": [
    "A medical institute that aims to prevent and treat gambling addictions wants to build a dedicated mobile app to help lottery addicts better estimate their chances of winning. "
   ]
  },
  {
   "cell_type": "markdown",
   "metadata": {},
   "source": [
    "For the first version of the app, they want us to focus on the 6/49 lottery and build functions that enable users to answer questions like:\n",
    "\n",
    "- What is the probability of winning the big prize with a single ticket?\n",
    "- What is the probability of winning the big prize if we play 40 different tickets (or any other number)?\n",
    "- What is the probability of having at least five (or four, or three, or two) winning numbers on a single ticket?\n",
    "\n",
    "Rules of 6/49 lottery: six numbers are drawn from a set of 49 numbers that range from 1 to 49. A player wins the big prize if the six numbers on their tickets match all the six numbers drawn. If a player has a ticket with the numbers {13, 22, 24, 27, 42, 44}, he only wins the big prize if the numbers drawn are {13, 22, 24, 27, 42, 44}. If only one number differs, he doesn't win."
   ]
  },
  {
   "cell_type": "markdown",
   "metadata": {},
   "source": [
    "We use the historical data coming from the national 6/49 lottery game in Canada:\n",
    "https://www.kaggle.com/datascienceai/lottery-dataset\n",
    "The data set has data for 3,665 drawings, dating from 1982 to 2018"
   ]
  },
  {
   "cell_type": "markdown",
   "metadata": {},
   "source": [
    "----------\n",
    "One-ticket Probability\n",
    "-----------"
   ]
  },
  {
   "cell_type": "code",
   "execution_count": 1,
   "metadata": {
    "collapsed": false
   },
   "outputs": [],
   "source": [
    "def factorial(n):\n",
    "    result = 1\n",
    "    for i in range(n,1,-1):\n",
    "        result *= i\n",
    "    return result\n",
    "\n",
    "def combinations(n,k):\n",
    "    return (factorial(n) / (factorial(k) * factorial(n-k)))"
   ]
  },
  {
   "cell_type": "markdown",
   "metadata": {},
   "source": [
    "Some details: \n",
    "- Inside the app, the user inputs six different numbers from 1 to 49.\n",
    "- Under the hood, the six numbers will come as a Python list, which will serve as the single input to our function.\n",
    "- The engineering team wants the function to print the probability value in a friendly way — in a way that people without any probability training are able to understand."
   ]
  },
  {
   "cell_type": "code",
   "execution_count": 2,
   "metadata": {
    "collapsed": false
   },
   "outputs": [],
   "source": [
    "def one_ticket_probability(user_list):\n",
    "    tot_outcome = combinations(49,6)\n",
    "    probability = 1 / tot_outcome\n",
    "    print('The probability of wining with ticket {0} is:\\n {1:.7f}%'\\\n",
    "          .format(user_list, probability * 100))\n",
    "    print('This is 1 in {0:,.0f} chance to win'.format(tot_outcome))"
   ]
  },
  {
   "cell_type": "code",
   "execution_count": 3,
   "metadata": {
    "collapsed": false
   },
   "outputs": [
    {
     "name": "stdout",
     "output_type": "stream",
     "text": [
      "The probability of wining with ticket [11, 21, 7, 3, 49, 12] is:\n",
      " 0.0000072%\n",
      "This is 1 in 13,983,816 chance to win\n"
     ]
    }
   ],
   "source": [
    "#test the function\n",
    "one_ticket_probability([11,21,7,3,49,12])"
   ]
  },
  {
   "cell_type": "markdown",
   "metadata": {
    "collapsed": true
   },
   "source": [
    "-----------\n",
    "Historical Data Check for Canada Lottery\n",
    "----------"
   ]
  },
  {
   "cell_type": "code",
   "execution_count": 4,
   "metadata": {
    "collapsed": true
   },
   "outputs": [],
   "source": [
    "import pandas as pd\n",
    "cl = pd.read_csv('649.csv')"
   ]
  },
  {
   "cell_type": "code",
   "execution_count": 5,
   "metadata": {
    "collapsed": false
   },
   "outputs": [
    {
     "data": {
      "text/html": [
       "<div>\n",
       "<style scoped>\n",
       "    .dataframe tbody tr th:only-of-type {\n",
       "        vertical-align: middle;\n",
       "    }\n",
       "\n",
       "    .dataframe tbody tr th {\n",
       "        vertical-align: top;\n",
       "    }\n",
       "\n",
       "    .dataframe thead th {\n",
       "        text-align: right;\n",
       "    }\n",
       "</style>\n",
       "<table border=\"1\" class=\"dataframe\">\n",
       "  <thead>\n",
       "    <tr style=\"text-align: right;\">\n",
       "      <th></th>\n",
       "      <th>PRODUCT</th>\n",
       "      <th>DRAW NUMBER</th>\n",
       "      <th>SEQUENCE NUMBER</th>\n",
       "      <th>DRAW DATE</th>\n",
       "      <th>NUMBER DRAWN 1</th>\n",
       "      <th>NUMBER DRAWN 2</th>\n",
       "      <th>NUMBER DRAWN 3</th>\n",
       "      <th>NUMBER DRAWN 4</th>\n",
       "      <th>NUMBER DRAWN 5</th>\n",
       "      <th>NUMBER DRAWN 6</th>\n",
       "      <th>BONUS NUMBER</th>\n",
       "    </tr>\n",
       "  </thead>\n",
       "  <tbody>\n",
       "    <tr>\n",
       "      <th>3104</th>\n",
       "      <td>649</td>\n",
       "      <td>3034</td>\n",
       "      <td>1</td>\n",
       "      <td>2/16/2013</td>\n",
       "      <td>10</td>\n",
       "      <td>15</td>\n",
       "      <td>16</td>\n",
       "      <td>38</td>\n",
       "      <td>44</td>\n",
       "      <td>48</td>\n",
       "      <td>0</td>\n",
       "    </tr>\n",
       "    <tr>\n",
       "      <th>1850</th>\n",
       "      <td>649</td>\n",
       "      <td>1851</td>\n",
       "      <td>0</td>\n",
       "      <td>10/17/2001</td>\n",
       "      <td>18</td>\n",
       "      <td>21</td>\n",
       "      <td>25</td>\n",
       "      <td>34</td>\n",
       "      <td>36</td>\n",
       "      <td>45</td>\n",
       "      <td>11</td>\n",
       "    </tr>\n",
       "    <tr>\n",
       "      <th>386</th>\n",
       "      <td>649</td>\n",
       "      <td>387</td>\n",
       "      <td>0</td>\n",
       "      <td>10/7/1987</td>\n",
       "      <td>3</td>\n",
       "      <td>4</td>\n",
       "      <td>6</td>\n",
       "      <td>13</td>\n",
       "      <td>14</td>\n",
       "      <td>48</td>\n",
       "      <td>40</td>\n",
       "    </tr>\n",
       "    <tr>\n",
       "      <th>2433</th>\n",
       "      <td>649</td>\n",
       "      <td>2434</td>\n",
       "      <td>0</td>\n",
       "      <td>5/19/2007</td>\n",
       "      <td>8</td>\n",
       "      <td>16</td>\n",
       "      <td>33</td>\n",
       "      <td>37</td>\n",
       "      <td>40</td>\n",
       "      <td>42</td>\n",
       "      <td>35</td>\n",
       "    </tr>\n",
       "    <tr>\n",
       "      <th>3064</th>\n",
       "      <td>649</td>\n",
       "      <td>2999</td>\n",
       "      <td>0</td>\n",
       "      <td>10/17/2012</td>\n",
       "      <td>4</td>\n",
       "      <td>20</td>\n",
       "      <td>22</td>\n",
       "      <td>23</td>\n",
       "      <td>42</td>\n",
       "      <td>44</td>\n",
       "      <td>41</td>\n",
       "    </tr>\n",
       "  </tbody>\n",
       "</table>\n",
       "</div>"
      ],
      "text/plain": [
       "      PRODUCT  DRAW NUMBER  SEQUENCE NUMBER   DRAW DATE  NUMBER DRAWN 1  \\\n",
       "3104      649         3034                1   2/16/2013              10   \n",
       "1850      649         1851                0  10/17/2001              18   \n",
       "386       649          387                0   10/7/1987               3   \n",
       "2433      649         2434                0   5/19/2007               8   \n",
       "3064      649         2999                0  10/17/2012               4   \n",
       "\n",
       "      NUMBER DRAWN 2  NUMBER DRAWN 3  NUMBER DRAWN 4  NUMBER DRAWN 5  \\\n",
       "3104              15              16              38              44   \n",
       "1850              21              25              34              36   \n",
       "386                4               6              13              14   \n",
       "2433              16              33              37              40   \n",
       "3064              20              22              23              42   \n",
       "\n",
       "      NUMBER DRAWN 6  BONUS NUMBER  \n",
       "3104              48             0  \n",
       "1850              45            11  \n",
       "386               48            40  \n",
       "2433              42            35  \n",
       "3064              44            41  "
      ]
     },
     "execution_count": 5,
     "metadata": {},
     "output_type": "execute_result"
    }
   ],
   "source": [
    "cl.sample(5)"
   ]
  },
  {
   "cell_type": "markdown",
   "metadata": {},
   "source": [
    "each row shows data is a single drawing - data from 1982 to 2018"
   ]
  },
  {
   "cell_type": "code",
   "execution_count": 6,
   "metadata": {
    "collapsed": false
   },
   "outputs": [
    {
     "data": {
      "text/plain": [
       "(3665, 11)"
      ]
     },
     "execution_count": 6,
     "metadata": {},
     "output_type": "execute_result"
    }
   ],
   "source": [
    "cl.shape"
   ]
  },
  {
   "cell_type": "markdown",
   "metadata": {},
   "source": [
    "We would like to write a function that prints:\n",
    "- the number of times the combination selected occurred in the Canada data set\n",
    "- the probability of winning the big prize in the next drawing with that combination."
   ]
  },
  {
   "cell_type": "code",
   "execution_count": 7,
   "metadata": {
    "collapsed": true
   },
   "outputs": [],
   "source": [
    "def extract_numbers(row):\n",
    "    result = {row[i] for i in range(4,10)}\n",
    "    return result\n",
    "\n",
    "all_numbers = cl.apply(extract_numbers, axis=1)"
   ]
  },
  {
   "cell_type": "code",
   "execution_count": 8,
   "metadata": {
    "collapsed": false
   },
   "outputs": [],
   "source": [
    "def check_historical_occurence(user_list, ext_series):\n",
    "    user_set = set(user_list)\n",
    "    comp_bol = ext_series == user_set\n",
    "    num_occu = sum(comp_bol)\n",
    "    \n",
    "    print('{0} time(s) this combination of numbers occured in the past\\n'.\\\n",
    "          format(num_occu))\n",
    "\n",
    "    one_ticket_probability(user_list)\n",
    "    return"
   ]
  },
  {
   "cell_type": "code",
   "execution_count": 9,
   "metadata": {
    "collapsed": false,
    "scrolled": true
   },
   "outputs": [
    {
     "name": "stdout",
     "output_type": "stream",
     "text": [
      "0 time(s) this combination of numbers occured in the past\n",
      "\n",
      "The probability of wining with ticket [11, 21, 7, 3, 49, 12] is:\n",
      " 0.0000072%\n",
      "This is 1 in 13,983,816 chance to win\n"
     ]
    }
   ],
   "source": [
    "#test the function\n",
    "check_historical_occurence([11,21,7,3,49,12], all_numbers)"
   ]
  },
  {
   "cell_type": "code",
   "execution_count": 10,
   "metadata": {
    "collapsed": false
   },
   "outputs": [
    {
     "name": "stdout",
     "output_type": "stream",
     "text": [
      "1 time(s) this combination of numbers occured in the past\n",
      "\n",
      "The probability of wining with ticket [9, 19, 21, 23, 31, 49] is:\n",
      " 0.0000072%\n",
      "This is 1 in 13,983,816 chance to win\n"
     ]
    }
   ],
   "source": [
    "#test the function\n",
    "check_historical_occurence([9, 19, 21, 23, 31, 49], all_numbers)"
   ]
  },
  {
   "cell_type": "markdown",
   "metadata": {},
   "source": [
    "--------------\n",
    "Multi-ticket Probability\n",
    "-------------"
   ]
  },
  {
   "cell_type": "markdown",
   "metadata": {
    "collapsed": true
   },
   "source": [
    "We would to write a function that will allow the users to calculate the chances of winning for any number of different tickets:\n",
    "- The user will input the number of different tickets they want to play (without inputting the specific combinations they intend to play).\n",
    "- Our function will see an integer between 1 and 13,983,816 (the maximum number of different tickets).\n",
    "- The function should print information about the probability of winning the big prize depending on the number of different tickets played.\n",
    "\n"
   ]
  },
  {
   "cell_type": "code",
   "execution_count": 11,
   "metadata": {
    "collapsed": true
   },
   "outputs": [],
   "source": [
    "def multi_ticket_probability(num_ticket):\n",
    "    tot_outcome = combinations(49,6)\n",
    "    probability = num_ticket / tot_outcome\n",
    "    print('The probability of wining with {0} ticket(s) is:\\n {1:.7f}%'\\\n",
    "          .format(num_ticket, probability * 100))\n",
    "    prob_ratio = round(tot_outcome/num_ticket,0)\n",
    "    print('This is 1 in {0:,.0f} chance to win\\n'.format(prob_ratio))\n",
    "    return"
   ]
  },
  {
   "cell_type": "code",
   "execution_count": 12,
   "metadata": {
    "collapsed": false
   },
   "outputs": [
    {
     "name": "stdout",
     "output_type": "stream",
     "text": [
      "The probability of wining with 1 ticket(s) is:\n",
      " 0.0000072%\n",
      "This is 1 in 13,983,816 chance to win\n",
      "\n",
      "The probability of wining with 10 ticket(s) is:\n",
      " 0.0000715%\n",
      "This is 1 in 1,398,382 chance to win\n",
      "\n",
      "The probability of wining with 100 ticket(s) is:\n",
      " 0.0007151%\n",
      "This is 1 in 139,838 chance to win\n",
      "\n",
      "The probability of wining with 10000 ticket(s) is:\n",
      " 0.0715112%\n",
      "This is 1 in 1,398 chance to win\n",
      "\n",
      "The probability of wining with 1000000 ticket(s) is:\n",
      " 7.1511238%\n",
      "This is 1 in 14 chance to win\n",
      "\n",
      "The probability of wining with 6991908 ticket(s) is:\n",
      " 50.0000000%\n",
      "This is 1 in 2 chance to win\n",
      "\n",
      "The probability of wining with 13983816 ticket(s) is:\n",
      " 100.0000000%\n",
      "This is 1 in 1 chance to win\n",
      "\n"
     ]
    }
   ],
   "source": [
    "# test function \n",
    "inputs = [1, 10, 100, 10000, 1000000, 6991908, 13983816]\n",
    "\n",
    "for i in inputs:\n",
    "    multi_ticket_probability(i)    "
   ]
  },
  {
   "cell_type": "markdown",
   "metadata": {},
   "source": [
    "------\n",
    "Less Wining Numbers\n",
    "------------"
   ]
  },
  {
   "cell_type": "markdown",
   "metadata": {},
   "source": [
    "In most 6/49 lotteries there are smaller prizes if a player's ticket match two, three, four, or five of the six numbers drawn. As a consequence, the users might be interested in knowing the probability of having two, three, four, or five winning numbers:\n",
    "- Inside the app, the user inputs an integer between 2 and 5 that represents the number of winning numbers expected\n",
    "- Our function prints information about the probability of having the inputted number of winning numbers."
   ]
  },
  {
   "cell_type": "code",
   "execution_count": 15,
   "metadata": {
    "collapsed": false
   },
   "outputs": [
    {
     "data": {
      "text/plain": [
       "1.8449899512407772e-05"
      ]
     },
     "execution_count": 15,
     "metadata": {},
     "output_type": "execute_result"
    }
   ],
   "source": [
    "combinations(6,5) * (combinations(49-5-1,(6-5))) / combinations(49,6)"
   ]
  },
  {
   "cell_type": "code",
   "execution_count": 14,
   "metadata": {
    "collapsed": false
   },
   "outputs": [
    {
     "data": {
      "text/plain": [
       "7.333333333333333"
      ]
     },
     "execution_count": 14,
     "metadata": {},
     "output_type": "execute_result"
    }
   ],
   "source": [
    "combinations(49,6)/combinations(49,5)"
   ]
  },
  {
   "cell_type": "code",
   "execution_count": 30,
   "metadata": {
    "collapsed": true
   },
   "outputs": [],
   "source": [
    "def probability_less_6(n_win):\n",
    "    # number of suscceesful outcome to have exactly n_win wininng numbers\n",
    "    succ_outcome = combinations(6,n_win) * combinations(49-6, 6-n_win)\n",
    "    # number of total possible outcome\n",
    "    tot_outcome = combinations(49,6)\n",
    "    prob = succ_outcome / tot_outcome\n",
    "    prob_ratio = round(tot_outcome / succ_outcome, 0)\n",
    "    print('The probability of having exactly {0} winning numbers in your ticket is:\\n {1:.4f}%'\\\n",
    "          .format(n_win, prob * 100))\n",
    "    print('This is 1 in {0:,.0f} chance to win\\n'.format(prob_ratio))\n",
    "    return"
   ]
  },
  {
   "cell_type": "code",
   "execution_count": 31,
   "metadata": {
    "collapsed": false
   },
   "outputs": [
    {
     "name": "stdout",
     "output_type": "stream",
     "text": [
      "The probability of having exactly 2 winning numbers in your ticket is:\n",
      " 13.2378%\n",
      "This is 1 in 8 chance to win\n",
      "\n",
      "The probability of having exactly 3 winning numbers in your ticket is:\n",
      " 1.7650%\n",
      "This is 1 in 57 chance to win\n",
      "\n",
      "The probability of having exactly 4 winning numbers in your ticket is:\n",
      " 0.0969%\n",
      "This is 1 in 1,032 chance to win\n",
      "\n",
      "The probability of having exactly 5 winning numbers in your ticket is:\n",
      " 0.0018%\n",
      "This is 1 in 54,201 chance to win\n",
      "\n"
     ]
    }
   ],
   "source": [
    "# test function\n",
    "for i in range(2,6):\n",
    "    probability_less_6(i)"
   ]
  },
  {
   "cell_type": "markdown",
   "metadata": {},
   "source": [
    "--------------\n",
    "Creating a function similar to probability_less_6() which calculates the probability of having at least two, three, four or five winning numbers:"
   ]
  },
  {
   "cell_type": "code",
   "execution_count": 51,
   "metadata": {
    "collapsed": true
   },
   "outputs": [],
   "source": [
    "def prob_atleast_less_6(n_win_atleast):\n",
    "    tot_outcome = combinations(49,6)\n",
    "    succ_outcome_atleast_list = [combinations(6,i) * combinations(49-6, 6-i) \\\n",
    "                                 for i in range(n_win_atleast,6+1)]\n",
    "    succ_outcome_atleast = sum(succ_outcome_atleast_list)\n",
    "    prob_atleast = succ_outcome_atleast / tot_outcome\n",
    "    prob_atleast_ratio = round(tot_outcome / succ_outcome_atleast, 0)\n",
    "    print('The probability of having at least {0} winning numbers in your ticket is:\\n {1:.4f}%'\\\n",
    "          .format(n_win_atleast, prob_atleast * 100))\n",
    "    print('This is 1 in {0:,.0f} chance to win\\n'.format(prob_atleast_ratio))\n",
    "    return\n",
    "    "
   ]
  },
  {
   "cell_type": "code",
   "execution_count": 52,
   "metadata": {
    "collapsed": false
   },
   "outputs": [
    {
     "name": "stdout",
     "output_type": "stream",
     "text": [
      "The probability of having at least 2 winning numbers in your ticket is:\n",
      " 15.1016%\n",
      "This is 1 in 7 chance to win\n",
      "\n",
      "The probability of having at least 3 winning numbers in your ticket is:\n",
      " 1.8638%\n",
      "This is 1 in 54 chance to win\n",
      "\n",
      "The probability of having at least 4 winning numbers in your ticket is:\n",
      " 0.0987%\n",
      "This is 1 in 1,013 chance to win\n",
      "\n",
      "The probability of having at least 5 winning numbers in your ticket is:\n",
      " 0.0019%\n",
      "This is 1 in 53,992 chance to win\n",
      "\n"
     ]
    }
   ],
   "source": [
    "# test function\n",
    "for i in range(2,6):\n",
    "    prob_atleast_less_6(i)"
   ]
  },
  {
   "cell_type": "code",
   "execution_count": null,
   "metadata": {
    "collapsed": true
   },
   "outputs": [],
   "source": []
  }
 ],
 "metadata": {
  "kernelspec": {
   "display_name": "Python 3",
   "language": "python",
   "name": "python3"
  },
  "language_info": {
   "codemirror_mode": {
    "name": "ipython",
    "version": 3
   },
   "file_extension": ".py",
   "mimetype": "text/x-python",
   "name": "python",
   "nbconvert_exporter": "python",
   "pygments_lexer": "ipython3",
   "version": "3.4.3"
  }
 },
 "nbformat": 4,
 "nbformat_minor": 2
}
